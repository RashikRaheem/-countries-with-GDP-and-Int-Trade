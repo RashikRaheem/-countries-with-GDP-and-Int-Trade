{
 "cells": [
  {
   "cell_type": "code",
   "execution_count": 1,
   "id": "1744a410",
   "metadata": {},
   "outputs": [],
   "source": [
    "import pandas as pd\n",
    "import numpy as np"
   ]
  },
  {
   "cell_type": "code",
   "execution_count": 15,
   "id": "f0e963c9",
   "metadata": {},
   "outputs": [
    {
     "data": {
      "text/html": [
       "<div>\n",
       "<style scoped>\n",
       "    .dataframe tbody tr th:only-of-type {\n",
       "        vertical-align: middle;\n",
       "    }\n",
       "\n",
       "    .dataframe tbody tr th {\n",
       "        vertical-align: top;\n",
       "    }\n",
       "\n",
       "    .dataframe thead th {\n",
       "        text-align: right;\n",
       "    }\n",
       "</style>\n",
       "<table border=\"1\" class=\"dataframe\">\n",
       "  <thead>\n",
       "    <tr style=\"text-align: right;\">\n",
       "      <th></th>\n",
       "      <th>country</th>\n",
       "      <th>Region</th>\n",
       "      <th>Surface area (km2)</th>\n",
       "      <th>Population in thousands (2017)</th>\n",
       "      <th>GDP per capita (current US$)</th>\n",
       "      <th>Agricultural production index</th>\n",
       "      <th>International trade: Imports (million US$)</th>\n",
       "    </tr>\n",
       "  </thead>\n",
       "  <tbody>\n",
       "    <tr>\n",
       "      <th>0</th>\n",
       "      <td>Afghanistan</td>\n",
       "      <td>SouthernAsia</td>\n",
       "      <td>652864.0</td>\n",
       "      <td>35530.0</td>\n",
       "      <td>623.2</td>\n",
       "      <td>125.0</td>\n",
       "      <td>3568.0</td>\n",
       "    </tr>\n",
       "    <tr>\n",
       "      <th>1</th>\n",
       "      <td>Albania</td>\n",
       "      <td>SouthernEurope</td>\n",
       "      <td>28748.0</td>\n",
       "      <td>2930.0</td>\n",
       "      <td>3984.2</td>\n",
       "      <td>134.0</td>\n",
       "      <td>4669.0</td>\n",
       "    </tr>\n",
       "    <tr>\n",
       "      <th>2</th>\n",
       "      <td>Algeria</td>\n",
       "      <td>NorthernAfrica</td>\n",
       "      <td>2381741.0</td>\n",
       "      <td>41318.0</td>\n",
       "      <td>4154.1</td>\n",
       "      <td>160.0</td>\n",
       "      <td>47091.0</td>\n",
       "    </tr>\n",
       "    <tr>\n",
       "      <th>3</th>\n",
       "      <td>Angola</td>\n",
       "      <td>MiddleAfrica</td>\n",
       "      <td>1246700.0</td>\n",
       "      <td>29784.0</td>\n",
       "      <td>4714.1</td>\n",
       "      <td>175.0</td>\n",
       "      <td>8790.0</td>\n",
       "    </tr>\n",
       "    <tr>\n",
       "      <th>4</th>\n",
       "      <td>Antigua and Barbuda</td>\n",
       "      <td>Caribbean</td>\n",
       "      <td>442.0</td>\n",
       "      <td>102.0</td>\n",
       "      <td>14764.5</td>\n",
       "      <td>88.0</td>\n",
       "      <td>491.0</td>\n",
       "    </tr>\n",
       "    <tr>\n",
       "      <th>...</th>\n",
       "      <td>...</td>\n",
       "      <td>...</td>\n",
       "      <td>...</td>\n",
       "      <td>...</td>\n",
       "      <td>...</td>\n",
       "      <td>...</td>\n",
       "      <td>...</td>\n",
       "    </tr>\n",
       "    <tr>\n",
       "      <th>191</th>\n",
       "      <td>Venezuela (Bolivarian Republic of)</td>\n",
       "      <td>SouthAmerica</td>\n",
       "      <td>912050.0</td>\n",
       "      <td>31977.0</td>\n",
       "      <td>11068.9</td>\n",
       "      <td>118.0</td>\n",
       "      <td>16324.0</td>\n",
       "    </tr>\n",
       "    <tr>\n",
       "      <th>192</th>\n",
       "      <td>Viet Nam</td>\n",
       "      <td>South-easternAsia</td>\n",
       "      <td>330967.0</td>\n",
       "      <td>95541.0</td>\n",
       "      <td>2067.9</td>\n",
       "      <td>136.0</td>\n",
       "      <td>174111.0</td>\n",
       "    </tr>\n",
       "    <tr>\n",
       "      <th>193</th>\n",
       "      <td>Yemen</td>\n",
       "      <td>WesternAsia</td>\n",
       "      <td>527968.0</td>\n",
       "      <td>28250.0</td>\n",
       "      <td>1106.4</td>\n",
       "      <td>136.0</td>\n",
       "      <td>6861.0</td>\n",
       "    </tr>\n",
       "    <tr>\n",
       "      <th>194</th>\n",
       "      <td>Zambia</td>\n",
       "      <td>EasternAfrica</td>\n",
       "      <td>752612.0</td>\n",
       "      <td>17094.0</td>\n",
       "      <td>1311.1</td>\n",
       "      <td>179.0</td>\n",
       "      <td>7442.0</td>\n",
       "    </tr>\n",
       "    <tr>\n",
       "      <th>195</th>\n",
       "      <td>Zimbabwe</td>\n",
       "      <td>EasternAfrica</td>\n",
       "      <td>390757.0</td>\n",
       "      <td>16530.0</td>\n",
       "      <td>890.4</td>\n",
       "      <td>99.0</td>\n",
       "      <td>5212.0</td>\n",
       "    </tr>\n",
       "  </tbody>\n",
       "</table>\n",
       "<p>196 rows × 7 columns</p>\n",
       "</div>"
      ],
      "text/plain": [
       "                                country             Region  \\\n",
       "0                           Afghanistan       SouthernAsia   \n",
       "1                               Albania     SouthernEurope   \n",
       "2                               Algeria     NorthernAfrica   \n",
       "3                                Angola       MiddleAfrica   \n",
       "4                   Antigua and Barbuda          Caribbean   \n",
       "..                                  ...                ...   \n",
       "191  Venezuela (Bolivarian Republic of)       SouthAmerica   \n",
       "192                            Viet Nam  South-easternAsia   \n",
       "193                               Yemen        WesternAsia   \n",
       "194                              Zambia      EasternAfrica   \n",
       "195                            Zimbabwe      EasternAfrica   \n",
       "\n",
       "     Surface area (km2)  Population in thousands (2017)  \\\n",
       "0              652864.0                         35530.0   \n",
       "1               28748.0                          2930.0   \n",
       "2             2381741.0                         41318.0   \n",
       "3             1246700.0                         29784.0   \n",
       "4                 442.0                           102.0   \n",
       "..                  ...                             ...   \n",
       "191            912050.0                         31977.0   \n",
       "192            330967.0                         95541.0   \n",
       "193            527968.0                         28250.0   \n",
       "194            752612.0                         17094.0   \n",
       "195            390757.0                         16530.0   \n",
       "\n",
       "     GDP per capita (current US$)  Agricultural production index   \\\n",
       "0                           623.2                           125.0   \n",
       "1                          3984.2                           134.0   \n",
       "2                          4154.1                           160.0   \n",
       "3                          4714.1                           175.0   \n",
       "4                         14764.5                            88.0   \n",
       "..                            ...                             ...   \n",
       "191                       11068.9                           118.0   \n",
       "192                        2067.9                           136.0   \n",
       "193                        1106.4                           136.0   \n",
       "194                        1311.1                           179.0   \n",
       "195                         890.4                            99.0   \n",
       "\n",
       "     International trade: Imports (million US$)  \n",
       "0                                        3568.0  \n",
       "1                                        4669.0  \n",
       "2                                       47091.0  \n",
       "3                                        8790.0  \n",
       "4                                         491.0  \n",
       "..                                          ...  \n",
       "191                                     16324.0  \n",
       "192                                    174111.0  \n",
       "193                                      6861.0  \n",
       "194                                      7442.0  \n",
       "195                                      5212.0  \n",
       "\n",
       "[196 rows x 7 columns]"
      ]
     },
     "execution_count": 15,
     "metadata": {},
     "output_type": "execute_result"
    }
   ],
   "source": [
    "df=pd.read_excel(\"Dataset_w6.xlsx\")\n",
    "df"
   ]
  },
  {
   "cell_type": "markdown",
   "id": "a130eef0",
   "metadata": {},
   "source": [
    "# 1. Find out how many countries are there in the dataset."
   ]
  },
  {
   "cell_type": "code",
   "execution_count": 4,
   "id": "3ac02d57",
   "metadata": {},
   "outputs": [
    {
     "data": {
      "text/plain": [
       "196"
      ]
     },
     "execution_count": 4,
     "metadata": {},
     "output_type": "execute_result"
    }
   ],
   "source": [
    "df['country'].count()   #Checking the number of countries."
   ]
  },
  {
   "cell_type": "code",
   "execution_count": 16,
   "id": "1d4571c1",
   "metadata": {},
   "outputs": [
    {
     "data": {
      "text/plain": [
       "196"
      ]
     },
     "execution_count": 16,
     "metadata": {},
     "output_type": "execute_result"
    }
   ],
   "source": [
    "df['country'].nunique() #confirming there is no duplicate in countries."
   ]
  },
  {
   "cell_type": "markdown",
   "id": "822d192b",
   "metadata": {},
   "source": [
    "# 2. Find out how many countries with respect to the region are available in the dataset"
   ]
  },
  {
   "cell_type": "code",
   "execution_count": 6,
   "id": "b407341b",
   "metadata": {},
   "outputs": [
    {
     "data": {
      "text/plain": [
       "22"
      ]
     },
     "execution_count": 6,
     "metadata": {},
     "output_type": "execute_result"
    }
   ],
   "source": [
    "df['Region'].nunique()  #Checking how many regions are there."
   ]
  },
  {
   "cell_type": "code",
   "execution_count": 17,
   "id": "59412af3",
   "metadata": {},
   "outputs": [
    {
     "data": {
      "text/plain": [
       "Region\n",
       "Oceania               2\n",
       "NorthernAmerica       4\n",
       "Micronesia            4\n",
       "SouthernAfrica        5\n",
       "CentralAsia           5\n",
       "Polynesia             5\n",
       "NorthernAfrica        5\n",
       "Melanesia             5\n",
       "WesternEurope         7\n",
       "EasternAsia           7\n",
       "CentralAmerica        8\n",
       "SouthernAsia          9\n",
       "MiddleAfrica          9\n",
       "EasternEurope        10\n",
       "NorthernEurope       10\n",
       "South-easternAsia    11\n",
       "SouthAmerica         12\n",
       "SouthernEurope       12\n",
       "WesternAfrica        15\n",
       "Caribbean            16\n",
       "EasternAfrica        17\n",
       "WesternAsia          18\n",
       "Name: country, dtype: int64"
      ]
     },
     "execution_count": 17,
     "metadata": {},
     "output_type": "execute_result"
    }
   ],
   "source": [
    "df.groupby('Region')['country'].nunique().sort_values()#Countries in each region"
   ]
  },
  {
   "cell_type": "markdown",
   "id": "9c9fb9e8",
   "metadata": {},
   "source": [
    "# On average which region has the highest GDP per capita (current US)"
   ]
  },
  {
   "cell_type": "code",
   "execution_count": 8,
   "id": "4328a442",
   "metadata": {},
   "outputs": [
    {
     "data": {
      "text/plain": [
       "Region\n",
       "NorthernAmerica    57659.0\n",
       "Name: GDP per capita (current US$), dtype: float64"
      ]
     },
     "execution_count": 8,
     "metadata": {},
     "output_type": "execute_result"
    }
   ],
   "source": [
    "df.groupby(['Region'])[\"GDP per capita (current US$)\"].agg('mean').sort_values(ascending=False).head(1)"
   ]
  },
  {
   "cell_type": "code",
   "execution_count": 9,
   "id": "4d4c79cf",
   "metadata": {},
   "outputs": [],
   "source": [
    "#NorthernAmerica has the highest average GDP per capita"
   ]
  },
  {
   "cell_type": "markdown",
   "id": "ef6ecd6c",
   "metadata": {},
   "source": [
    "# On average which region has the highest International trade: Imports (million US$)\n"
   ]
  },
  {
   "cell_type": "code",
   "execution_count": 10,
   "id": "664be9f2",
   "metadata": {},
   "outputs": [
    {
     "data": {
      "text/plain": [
       "Region\n",
       "NorthernAmerica    663552.25\n",
       "Name: International trade: Imports (million US$), dtype: float64"
      ]
     },
     "execution_count": 10,
     "metadata": {},
     "output_type": "execute_result"
    }
   ],
   "source": [
    "y=df.groupby(['Region'])['International trade: Imports (million US$)'].agg('mean')\n",
    "y.sort_values(ascending=False).head(1)"
   ]
  },
  {
   "cell_type": "code",
   "execution_count": 11,
   "id": "1f270870",
   "metadata": {},
   "outputs": [],
   "source": [
    "#NorthernAmerica has the highest average on International trade.\n"
   ]
  },
  {
   "cell_type": "markdown",
   "id": "50a94872",
   "metadata": {},
   "source": [
    "# Find out which region has more consistent with respect to GDP per capita (current US$)"
   ]
  },
  {
   "cell_type": "code",
   "execution_count": 12,
   "id": "98448b37",
   "metadata": {},
   "outputs": [
    {
     "data": {
      "text/plain": [
       "Region\n",
       "WesternAfrica          815.095399\n",
       "NorthernAfrica         974.706575\n",
       "SouthernAfrica        2177.551120\n",
       "SouthernAsia          2855.708179\n",
       "EasternAfrica         3716.131770\n",
       "CentralAsia           4152.215490\n",
       "CentralAmerica        4180.440883\n",
       "SouthAmerica          4273.707394\n",
       "Micronesia            4820.669694\n",
       "MiddleAfrica          5274.846281\n",
       "EasternEurope         5415.488739\n",
       "Polynesia             6956.250286\n",
       "Oceania               9233.329638\n",
       "SouthernEurope        9541.703216\n",
       "Melanesia            13855.842686\n",
       "Caribbean            14579.371326\n",
       "South-easternAsia    16311.810656\n",
       "WesternAsia          18812.151459\n",
       "NorthernEurope       20671.030185\n",
       "WesternEurope        24770.467728\n",
       "NorthernAmerica      25749.619445\n",
       "EasternAsia          27485.120923\n",
       "Name: GDP per capita (current US$), dtype: float64"
      ]
     },
     "execution_count": 12,
     "metadata": {},
     "output_type": "execute_result"
    }
   ],
   "source": [
    "df.groupby('Region')['GDP per capita (current US$)'].std().sort_values()"
   ]
  },
  {
   "cell_type": "code",
   "execution_count": 13,
   "id": "b00f7f73",
   "metadata": {},
   "outputs": [],
   "source": [
    "#Western Africa is consistent with respect to GDP per capita."
   ]
  }
 ],
 "metadata": {
  "kernelspec": {
   "display_name": "Python 3 (ipykernel)",
   "language": "python",
   "name": "python3"
  },
  "language_info": {
   "codemirror_mode": {
    "name": "ipython",
    "version": 3
   },
   "file_extension": ".py",
   "mimetype": "text/x-python",
   "name": "python",
   "nbconvert_exporter": "python",
   "pygments_lexer": "ipython3",
   "version": "3.9.12"
  }
 },
 "nbformat": 4,
 "nbformat_minor": 5
}
